{
 "cells": [
  {
   "cell_type": "code",
   "execution_count": 1,
   "id": "0791135a",
   "metadata": {},
   "outputs": [],
   "source": [
    "from src.resampling import var1_2d_res\n",
    "from src.generating_data import generate_var1_data\n",
    "from src.parameters import THETA_HAT_FUNC_DICT\n",
    "import numpy as np\n",
    "\n",
    "# autoreload\n",
    "%load_ext autoreload\n",
    "%autoreload 2"
   ]
  },
  {
   "cell_type": "code",
   "execution_count": null,
   "id": "9e7d4b98",
   "metadata": {},
   "outputs": [
    {
     "name": "stdout",
     "output_type": "stream",
     "text": [
      "X_obs.shape: (100000, 2)\n",
      "A_obs:\n",
      " [[0.49385399 0.20703789]\n",
      " [0.09505055 0.29974599]]\n",
      "A_res:\n",
      " [[0.51333854 0.18640241]\n",
      " [0.09876461 0.28721393]]\n"
     ]
    }
   ],
   "source": [
    "A = np.array([[0.5, 0.2], [0.1, 0.3]])\n",
    "Sigma_eps = np.array([[0.1, 0.05], [0.05, 0.1]])\n",
    "n_obs = 1000\n",
    "N = 6000\n",
    "\n",
    "#generate data\n",
    "X_obs = generate_var1_data(A, Sigma_eps, n_samples=n_obs)\n",
    "print(f\"X_obs.shape: {X_obs.shape}\")\n",
    "A_obs = THETA_HAT_FUNC_DICT['VAR1_A_hat'](X_obs)\n",
    "# resample data\n",
    "X_resampled = var1_2d_res(X_obs, N)\n",
    "A_res = THETA_HAT_FUNC_DICT['VAR1_A_hat'](X_resampled)\n",
    "# print results\n",
    "print(\"A_obs:\\n\", A_obs)\n",
    "print(\"A_res:\\n\", A_res)\n"
   ]
  },
  {
   "cell_type": "code",
   "execution_count": null,
   "id": "0e307e43",
   "metadata": {},
   "outputs": [],
   "source": []
  }
 ],
 "metadata": {
  "kernelspec": {
   "display_name": ".venv",
   "language": "python",
   "name": "python3"
  },
  "language_info": {
   "codemirror_mode": {
    "name": "ipython",
    "version": 3
   },
   "file_extension": ".py",
   "mimetype": "text/x-python",
   "name": "python",
   "nbconvert_exporter": "python",
   "pygments_lexer": "ipython3",
   "version": "3.12.3"
  }
 },
 "nbformat": 4,
 "nbformat_minor": 5
}
