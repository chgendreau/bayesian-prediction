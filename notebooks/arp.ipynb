{
 "cells": [
  {
   "cell_type": "markdown",
   "id": "4e9f4d97",
   "metadata": {},
   "source": [
    "# AR(p) inference"
   ]
  },
  {
   "cell_type": "code",
   "execution_count": 97,
   "id": "274b8146",
   "metadata": {},
   "outputs": [],
   "source": [
    "import numpy as np\n",
    "\n",
    "\n",
    "\n",
    "def generate_ar_data(n_obs, phis, sigma=1):\n",
    "    n_lags = len(phis)\n",
    "    ar_data = np.zeros(n_obs)\n",
    "    for t in range(n_lags, n_obs):\n",
    "        ar_data[t] = np.dot(phis[::-1], ar_data[t-n_lags:t]) + np.random.normal(scale=sigma)\n",
    "    return ar_data\n"
   ]
  },
  {
   "cell_type": "code",
   "execution_count": 127,
   "id": "f6a468cd",
   "metadata": {},
   "outputs": [
    {
     "name": "stderr",
     "output_type": "stream",
     "text": [
      "<>:33: SyntaxWarning: invalid escape sequence '\\h'\n",
      "<>:33: SyntaxWarning: invalid escape sequence '\\h'\n",
      "/tmp/ipykernel_910/58649006.py:33: SyntaxWarning: invalid escape sequence '\\h'\n",
      "  \"\"\"\n"
     ]
    },
    {
     "name": "stdout",
     "output_type": "stream",
     "text": [
      "Stationary test:\n",
      "The serie is stationary\n",
      "p-value: 3.443499253167107e-13\n"
     ]
    },
    {
     "data": {
      "text/plain": [
       "np.float64(3.443499253167107e-13)"
      ]
     },
     "execution_count": 127,
     "metadata": {},
     "output_type": "execute_result"
    }
   ],
   "source": [
    "def estimators_ar1(data_obs: np.ndarray, n_lags: int=1) -> np.ndarray:\n",
    "    \"\"\"\n",
    "    Estimate the AR(p) parameters using OLS\n",
    "    :param data_obs: Original data\n",
    "    :param n_lags: Number of lags\n",
    "    :return: Estimated AR(p) parameters\n",
    "    \"\"\"\n",
    "    y_t_1 = data_obs[:-1]\n",
    "    y_t = data_obs[1:]\n",
    "    c_hat = np.sum((y_t_1-np.mean(y_t_1))*(y_t-np.mean(y_t))) / np.sum((y_t_1-np.mean(y_t_1))**2)\n",
    "    a_hat = np.mean(y_t) - c_hat*np.mean(y_t_1)\n",
    "    return c_hat, a_hat\n",
    "\n",
    "def estimators_ar(data_obs: np.ndarray, n_lags: int=1) -> np.ndarray:\n",
    "    \"\"\"\n",
    "    Estimate the AR(p) parameters using OLS\n",
    "    :param data_obs: Original data\n",
    "    :param n_lags: Number of lags\n",
    "    :return: Estimated AR(p) parameters\n",
    "    \"\"\"\n",
    "    n_obs = len(data_obs)\n",
    "    X = np.zeros((n_obs-n_lags, n_lags))\n",
    "    for i in range(n_lags):\n",
    "        X[:, i] = data_obs[i:n_obs-n_lags+i]\n",
    "    y = data_obs[n_lags:]\n",
    "    \n",
    "    # OLS estimation\n",
    "    beta_hat = np.linalg.inv(X.T @ X) @ X.T @ y\n",
    "    return beta_hat[::-1]  # Return in reverse order to match the original AR(p) form\n",
    "\n",
    "\n",
    "def resample_ar1(data_obs: np.ndarray, n_resamples: int, error_var = None) -> np.ndarray:\n",
    "    \"\"\"\n",
    "    Resample the data to create a new sample of size n_resamples: (x_1, ..., x_n_obs, x_{n_obs+1}, ..., x_{n_obs + n_resamples})\n",
    "    Uses X_{n+1} = \\hat{c}*X_n + \\epsilon_{n+1}, error_var_hat = 1/(n-1) * \\sum_{i=1}^{n-1} (X_i - \\hat{c}*X_{i-1})^2\n",
    "    :param data: Original data\n",
    "    :param n_resamples: Size of the resampled data\n",
    "    :return: Resampled data\n",
    "    \"\"\"\n",
    "    # initialize the strategy by estimating the parameters\n",
    "    c_hat, a_hat = estimators_ar(data_obs, n_lags=1)\n",
    "\n",
    "    # fixing error var if given\n",
    "    fixed_error_var = True\n",
    "    if error_var is None:\n",
    "        fixed_error_var = False\n",
    "        error_var = np.var(data_obs[1:] - c_hat * data_obs[:-1])\n",
    "    \n",
    "    # Resampling\n",
    "    resampled_data = data_obs.copy()\n",
    "    for j in range(n_resamples):\n",
    "        # adding new sample\n",
    "        resampled_data = np.append(resampled_data, a_hat + c_hat * resampled_data[-1] + np.random.normal(0, error_var))\n",
    "        # updating the strategy\n",
    "        c_hat, _ = estimators_ar(resampled_data, n_lags=1)\n",
    "        if not fixed_error_var:\n",
    "            error_var = np.var(resampled_data[1:] - a_hat - c_hat * resampled_data[:-1])\n",
    "\n",
    "    return resampled_data\n",
    "\n",
    "\n",
    "from numpy.lib.stride_tricks import sliding_window_view\n",
    "\n",
    "def compute_residuals(data: np.ndarray, beta: np.ndarray) -> np.ndarray:\n",
    "    \"\"\"\n",
    "    Vectorized residuals for AR(p):\n",
    "        data[i] = beta[0]*data[i-1] + ... + beta[p-1]*data[i-p] + eps[i]\n",
    "    Returns the residuals array for i = p,...,n-1.\n",
    "    \"\"\"\n",
    "    p = len(beta)\n",
    "    windows = sliding_window_view(data, p)[:-1, ::-1]\n",
    "    preds = windows @ beta\n",
    "    return data[p:] - preds\n",
    "\n",
    "def resample_arp(data_obs: np.ndarray, n_resamples: int, error_var = None, p=1) -> np.ndarray:\n",
    "    \"\"\"\n",
    "    Resample the data to create a new sample of size n_resamples: (x_1, ..., x_n_obs, x_{n_obs+1}, ..., x_{n_obs + n_resamples})\n",
    "    \"\"\"\n",
    "    # initialize the strategy by estimating the parameters\n",
    "    beta_hat = estimators_ar(data_obs, n_lags=p)\n",
    "\n",
    "    # fixing error var if given\n",
    "    fixed_error_var = True\n",
    "    if error_var is None:\n",
    "        fixed_error_var = False\n",
    "        # error = Y_n - Y_{n-1}*beta_hat[0] - Y_{n-2}*beta_hat[1] - ... - Y_{n-p}*beta_hat[p]\n",
    "        error_var = np.var(compute_residuals(data_obs, beta_hat))\n",
    "    \n",
    "    # Resampling\n",
    "    resampled_data = data_obs.copy()\n",
    "    for j in range(n_resamples):\n",
    "        # adding new sample\n",
    "        y_new = np.dot(beta_hat[::-1], resampled_data[-p:]) + np.random.normal(0, error_var)\n",
    "        resampled_data = np.append(resampled_data, y_new)\n",
    "        # updating the strategy\n",
    "        beta_hat = estimators_ar(resampled_data, n_lags=p)\n",
    "        if not fixed_error_var:\n",
    "            error_var = np.var(compute_residuals(resampled_data, beta_hat))\n",
    "\n",
    "    return resampled_data\n",
    "\n",
    "\n",
    "data_obs = generate_ar_data(100, [0.5, 0.3, 0.1], sigma=1)\n",
    "\n",
    "resampled_data = resample_arp(data_obs, n_resamples=2000, p=2)\n",
    "\n",
    "print(\"Stationary test:\")\n",
    "test_stationarity(resampled_data, alpha=0.05)\n",
    "\n",
    "\n"
   ]
  },
  {
   "cell_type": "code",
   "execution_count": null,
   "id": "3ab4c266",
   "metadata": {},
   "outputs": [],
   "source": []
  },
  {
   "cell_type": "code",
   "execution_count": null,
   "id": "edd86374",
   "metadata": {},
   "outputs": [],
   "source": []
  },
  {
   "cell_type": "code",
   "execution_count": null,
   "id": "b22eaba4",
   "metadata": {},
   "outputs": [],
   "source": []
  },
  {
   "cell_type": "code",
   "execution_count": null,
   "id": "7e47a0bb",
   "metadata": {},
   "outputs": [],
   "source": []
  },
  {
   "cell_type": "code",
   "execution_count": null,
   "id": "39d14da0",
   "metadata": {},
   "outputs": [],
   "source": []
  },
  {
   "cell_type": "code",
   "execution_count": null,
   "id": "4e69e5ad",
   "metadata": {},
   "outputs": [],
   "source": []
  },
  {
   "cell_type": "code",
   "execution_count": null,
   "id": "bf076376",
   "metadata": {},
   "outputs": [],
   "source": []
  },
  {
   "cell_type": "code",
   "execution_count": null,
   "id": "34514774",
   "metadata": {},
   "outputs": [],
   "source": []
  },
  {
   "cell_type": "code",
   "execution_count": null,
   "id": "c78a8b6c",
   "metadata": {},
   "outputs": [],
   "source": []
  },
  {
   "cell_type": "code",
   "execution_count": 43,
   "id": "78dfacb3",
   "metadata": {},
   "outputs": [],
   "source": [
    "from statsmodels.tsa.stattools import adfuller\n",
    "\n",
    "def test_stationarity(series, alpha=0.05, verbose=True):\n",
    "    \"\"\"\n",
    "    Perform Augmented Dickey-Fuller test for stationarity.\n",
    "\n",
    "    Parameters\n",
    "    ----------\n",
    "    series : array-like\n",
    "        Time series data.\n",
    "    alpha : float, optional\n",
    "        Significance level for the test (default is 0.05).\n",
    "\n",
    "    Returns\n",
    "    -------\n",
    "    bool\n",
    "        True if the series is stationary (rejects null), False otherwise.\n",
    "    \"\"\"\n",
    "    result = adfuller(series)\n",
    "    p_value = result[1]\n",
    "    if verbose:\n",
    "        print(f\"The serie {'is' if p_value < alpha else 'is NOT'} stationary\")\n",
    "        print(f\"p-value: {p_value}\")\n",
    "    return p_value\n",
    "\n",
    "\n",
    "from statsmodels.tsa.stattools import kpss\n",
    "import pandas as pd\n",
    "\n",
    "\n",
    "def kpss_test(timeseries):\n",
    "    # print(\"Results of KPSS Test:\")\n",
    "    kpsstest = kpss(timeseries, regression=\"c\", nlags=\"auto\")\n",
    "    p_value = kpsstest[1]\n",
    "    return p_value\n",
    "    # kpss_output = pd.Series(\n",
    "    #     kpsstest[0:3], index=[\"Test Statistic\", \"p-value\", \"Lags Used\"]\n",
    "    # )\n",
    "    # for key, value in kpsstest[3].items():\n",
    "    #     kpss_output[\"Critical Value (%s)\" % key] = value\n",
    "    # print(kpss_output)\n"
   ]
  },
  {
   "cell_type": "code",
   "execution_count": 50,
   "id": "af69dc0d",
   "metadata": {},
   "outputs": [
    {
     "name": "stderr",
     "output_type": "stream",
     "text": [
      "  0%|          | 0/1 [00:00<?, ?it/s]"
     ]
    },
    {
     "data": {
      "image/png": "[encoded data removed]",
      "text/plain": [
       "<Figure size 1200x500 with 2 Axes>"
      ]
     },
     "metadata": {},
     "output_type": "display_data"
    },
    {
     "name": "stderr",
     "output_type": "stream",
     "text": [
      "100%|██████████| 1/1 [00:00<00:00,  1.61it/s]"
     ]
    },
    {
     "name": "stdout",
     "output_type": "stream",
     "text": [
      "Correct nu_var: 2.4973015778172015e-05\n",
      "wrong nu_var: 8.92873784919806e-06\n",
      "--------------------\n",
      "Number of p_vals < 0.05 for correct nu_var: 1\n",
      "Number of p_vals < 0.05 for wrong nu_var: 1\n"
     ]
    },
    {
     "name": "stderr",
     "output_type": "stream",
     "text": [
      "\n"
     ]
    }
   ],
   "source": [
    "import numpy as np\n",
    "from tqdm import tqdm\n",
    "import matplotlib.pyplot as plt\n",
    "from statsmodels.graphics.tsaplots import plot_acf\n",
    "\n",
    "\n",
    "a = 3\n",
    "b = 2\n",
    "c = 0.5\n",
    "gamma = 2\n",
    "\n",
    "nu_var = b/(1 - np.abs(c)**gamma)\n",
    "wrong_nu_var = 4\n",
    "\n",
    "# set_up\n",
    "N = 50\n",
    "p_vals = []\n",
    "kpss_pvals = []\n",
    "p_vals_wrong_nu_var = []\n",
    "kpss_pvals_wrong_nu_var = []\n",
    "\n",
    "# iterating to remove randomness effect\n",
    "for i in tqdm(range(1)):\n",
    "    # Geneterating data\n",
    "    xx = np.zeros(N)\n",
    "    xx_wrong_nu_var = np.zeros(N)\n",
    "    xx[0] = np.random.normal(loc=a, scale=np.sqrt(nu_var))\n",
    "    xx_wrong_nu_var[0] = np.random.normal(loc=a, scale=np.sqrt(wrong_nu_var))\n",
    "    for i in range(1, N):\n",
    "        error = np.random.normal(loc=a, scale=np.sqrt(b))\n",
    "        xx[i] = -a + c * xx[i-1] + error\n",
    "        xx_wrong_nu_var[i] = -a + c * xx_wrong_nu_var[i-1] + error  # np.random.normal(loc=a, scale=np.sqrt(wrong_nu_var))\n",
    "\n",
    "    # testing stationarity\n",
    "    p_vals.append(test_stationarity(xx, alpha=0.05, verbose=False))\n",
    "    p_vals_wrong_nu_var.append(test_stationarity(xx_wrong_nu_var, alpha=0.05, verbose=False))\n",
    "    # kpss_pvals.append(kpss_test(xx))\n",
    "    # kpss_pvals_wrong_nu_var.append(kpss_test(xx_wrong_nu_var))\n",
    "    plt.figure(figsize=(12, 5))\n",
    "    plt.subplot(1, 2, 1)\n",
    "    plot_acf(xx, ax=plt.gca(), title='Autocorrelation - Correct nu_var')\n",
    "    plt.subplot(1, 2, 2)\n",
    "    plot_acf(xx_wrong_nu_var, ax=plt.gca(), title='Autocorrelation - Wrong nu_var')\n",
    "    plt.tight_layout()\n",
    "    plt.show()\n",
    "\n",
    "\n",
    "print(\"Correct nu_var:\", np.mean(p_vals))\n",
    "print(\"wrong nu_var:\", np.mean(p_vals_wrong_nu_var))\n",
    "print(\"--------------------\")\n",
    "print(\"Number of p_vals < 0.05 for correct nu_var:\", np.sum(np.array(p_vals) < 0.05))\n",
    "print(\"Number of p_vals < 0.05 for wrong nu_var:\", np.sum(np.array(p_vals_wrong_nu_var) < 0.05))\n",
    "# print(\"--------------------\")\n",
    "# print(\"KPSS Correct nu_var:\", np.mean(kpss_pvals))\n",
    "# print(\"KPSS wrong nu_var:\", np.mean(kpss_pvals_wrong_nu_var))\n",
    "# print(\"--------------------\")\n",
    "# print(\"Number of kpss_pvals < 0.05 for correct nu_var:\", np.sum(np.array(kpss_pvals) < 0.05))\n",
    "# print(\"Number of kpss_pvals < 0.05 for wrong nu_var:\", np.sum(np.array(kpss_pvals_wrong_nu_var) < 0.05))\n"
   ]
  },
  {
   "cell_type": "code",
   "execution_count": 20,
   "id": "b163b7a5",
   "metadata": {},
   "outputs": [
    {
     "name": "stdout",
     "output_type": "stream",
     "text": [
      "Results of KPSS Test:\n",
      "Test Statistic           0.170807\n",
      "p-value                  0.100000\n",
      "Lags Used                5.000000\n",
      "Critical Value (10%)     0.347000\n",
      "Critical Value (5%)      0.463000\n",
      "Critical Value (2.5%)    0.574000\n",
      "Critical Value (1%)      0.739000\n",
      "dtype: float64\n",
      "Results of KPSS Test:\n",
      "Test Statistic           0.656505\n",
      "p-value                  0.017500\n",
      "Lags Used                5.000000\n",
      "Critical Value (10%)     0.347000\n",
      "Critical Value (5%)      0.463000\n",
      "Critical Value (2.5%)    0.574000\n",
      "Critical Value (1%)      0.739000\n",
      "dtype: float64\n"
     ]
    },
    {
     "name": "stderr",
     "output_type": "stream",
     "text": [
      "/tmp/ipykernel_111828/395744607.py:32: InterpolationWarning: The test statistic is outside of the range of p-values available in the\n",
      "look-up table. The actual p-value is greater than the p-value returned.\n",
      "\n",
      "  kpsstest = kpss(timeseries, regression=\"c\", nlags=\"auto\")\n"
     ]
    }
   ],
   "source": [
    "kpss_test(xx)\n",
    "kpss_test(xx_wrong_nu_var)"
   ]
  },
  {
   "cell_type": "code",
   "execution_count": null,
   "id": "c50e2150",
   "metadata": {},
   "outputs": [],
   "source": []
  },
  {
   "cell_type": "code",
   "execution_count": 31,
   "id": "ded18a03",
   "metadata": {},
   "outputs": [
    {
     "ename": "ValueError",
     "evalue": "shapes (3,) and (1,) not aligned: 3 (dim 0) != 1 (dim 0)",
     "output_type": "error",
     "traceback": [
      "\u001b[31m---------------------------------------------------------------------------\u001b[39m",
      "\u001b[31mValueError\u001b[39m                                Traceback (most recent call last)",
      "\u001b[36mCell\u001b[39m\u001b[36m \u001b[39m\u001b[32mIn[31]\u001b[39m\u001b[32m, line 9\u001b[39m\n\u001b[32m      6\u001b[39m sigma = \u001b[32m3\u001b[39m\n\u001b[32m      8\u001b[39m data_obs = generate_ar_data(n_obs, phis, sigma=sigma)\n\u001b[32m----> \u001b[39m\u001b[32m9\u001b[39m resampled_data = \u001b[43mresample_arp\u001b[49m\u001b[43m(\u001b[49m\u001b[43mdata_obs\u001b[49m\u001b[43m,\u001b[49m\u001b[43m \u001b[49m\u001b[43mn_resamples\u001b[49m\u001b[43m=\u001b[49m\u001b[32;43m100\u001b[39;49m\u001b[43m,\u001b[49m\u001b[43m \u001b[49m\u001b[43merror_var\u001b[49m\u001b[43m=\u001b[49m\u001b[32;43m3\u001b[39;49m\u001b[43m,\u001b[49m\u001b[43m \u001b[49m\u001b[43mp\u001b[49m\u001b[43m=\u001b[49m\u001b[32;43m3\u001b[39;49m\u001b[43m)\u001b[49m\n",
      "\u001b[36mCell\u001b[39m\u001b[36m \u001b[39m\u001b[32mIn[29]\u001b[39m\u001b[32m, line 79\u001b[39m, in \u001b[36mresample_arp\u001b[39m\u001b[34m(data_obs, n_resamples, error_var, p)\u001b[39m\n\u001b[32m     76\u001b[39m resampled_data = data_obs.copy()\n\u001b[32m     77\u001b[39m \u001b[38;5;28;01mfor\u001b[39;00m j \u001b[38;5;129;01min\u001b[39;00m \u001b[38;5;28mrange\u001b[39m(n_resamples):\n\u001b[32m     78\u001b[39m     \u001b[38;5;66;03m# adding new sample\u001b[39;00m\n\u001b[32m---> \u001b[39m\u001b[32m79\u001b[39m     resampled_data = np.append(resampled_data, \u001b[43mnp\u001b[49m\u001b[43m.\u001b[49m\u001b[43mdot\u001b[49m\u001b[43m(\u001b[49m\u001b[43mresampled_data\u001b[49m\u001b[43m[\u001b[49m\u001b[43m-\u001b[49m\u001b[43mp\u001b[49m\u001b[43m:\u001b[49m\u001b[43m]\u001b[49m\u001b[43m,\u001b[49m\u001b[43m \u001b[49m\u001b[43mbeta_hat\u001b[49m\u001b[43m)\u001b[49m + np.random.normal(\u001b[32m0\u001b[39m, error_var))\n\u001b[32m     80\u001b[39m     \u001b[38;5;66;03m# updating the strategy\u001b[39;00m\n\u001b[32m     81\u001b[39m     beta_hat = estimators_ar(resampled_data, n_lags=\u001b[32m1\u001b[39m)\n",
      "\u001b[31mValueError\u001b[39m: shapes (3,) and (1,) not aligned: 3 (dim 0) != 1 (dim 0)"
     ]
    }
   ],
   "source": [
    "# Generate AR(p) data\n",
    "n_obs = 100\n",
    "# Must be stationary\n",
    "phis = np.array([0.5, 0.25])\n",
    "n_lags = len(phis)\n",
    "sigma = 3\n",
    "\n",
    "data_obs = generate_ar_data(n_obs, phis, sigma=sigma)\n",
    "resampled_data = resample_arp(data_obs, n_resamples=100, error_var=3, p=3)"
   ]
  },
  {
   "cell_type": "code",
   "execution_count": 27,
   "id": "5aef81c8",
   "metadata": {},
   "outputs": [
    {
     "ename": "MissingDataError",
     "evalue": "exog contains inf or nans",
     "output_type": "error",
     "traceback": [
      "\u001b[31m---------------------------------------------------------------------------\u001b[39m",
      "\u001b[31mMissingDataError\u001b[39m                          Traceback (most recent call last)",
      "\u001b[36mCell\u001b[39m\u001b[36m \u001b[39m\u001b[32mIn[27]\u001b[39m\u001b[32m, line 1\u001b[39m\n\u001b[32m----> \u001b[39m\u001b[32m1\u001b[39m \u001b[43mtest_stationarity\u001b[49m\u001b[43m(\u001b[49m\u001b[43mresampled_data\u001b[49m\u001b[43m)\u001b[49m\n",
      "\u001b[36mCell\u001b[39m\u001b[36m \u001b[39m\u001b[32mIn[3]\u001b[39m\u001b[32m, line 19\u001b[39m, in \u001b[36mtest_stationarity\u001b[39m\u001b[34m(series, alpha)\u001b[39m\n\u001b[32m      3\u001b[39m \u001b[38;5;28;01mdef\u001b[39;00m\u001b[38;5;250m \u001b[39m\u001b[34mtest_stationarity\u001b[39m(series, alpha=\u001b[32m0.05\u001b[39m):\n\u001b[32m      4\u001b[39m \u001b[38;5;250m    \u001b[39m\u001b[33;03m\"\"\"\u001b[39;00m\n\u001b[32m      5\u001b[39m \u001b[33;03m    Perform Augmented Dickey-Fuller test for stationarity.\u001b[39;00m\n\u001b[32m      6\u001b[39m \n\u001b[32m   (...)\u001b[39m\u001b[32m     17\u001b[39m \u001b[33;03m        True if the series is stationary (rejects null), False otherwise.\u001b[39;00m\n\u001b[32m     18\u001b[39m \u001b[33;03m    \"\"\"\u001b[39;00m\n\u001b[32m---> \u001b[39m\u001b[32m19\u001b[39m     result = \u001b[43madfuller\u001b[49m\u001b[43m(\u001b[49m\u001b[43mseries\u001b[49m\u001b[43m)\u001b[49m\n\u001b[32m     20\u001b[39m     p_value = result[\u001b[32m1\u001b[39m]\n\u001b[32m     21\u001b[39m     \u001b[38;5;28mprint\u001b[39m(\u001b[33mf\u001b[39m\u001b[33m\"\u001b[39m\u001b[33mThe serie \u001b[39m\u001b[38;5;132;01m{\u001b[39;00m\u001b[33m'\u001b[39m\u001b[33mis\u001b[39m\u001b[33m'\u001b[39m\u001b[38;5;250m \u001b[39m\u001b[38;5;28;01mif\u001b[39;00m\u001b[38;5;250m \u001b[39mp_value\u001b[38;5;250m \u001b[39m<\u001b[38;5;250m \u001b[39malpha\u001b[38;5;250m \u001b[39m\u001b[38;5;28;01melse\u001b[39;00m\u001b[38;5;250m \u001b[39m\u001b[33m'\u001b[39m\u001b[33mis NOT\u001b[39m\u001b[33m'\u001b[39m\u001b[38;5;132;01m}\u001b[39;00m\u001b[33m stationary\u001b[39m\u001b[33m\"\u001b[39m)\n",
      "\u001b[36mFile \u001b[39m\u001b[32m~/repos/bayesian-prediction/.venv/lib/python3.12/site-packages/statsmodels/tsa/stattools.py:326\u001b[39m, in \u001b[36madfuller\u001b[39m\u001b[34m(x, maxlag, regression, autolag, store, regresults)\u001b[39m\n\u001b[32m    320\u001b[39m \u001b[38;5;66;03m# 1 for level\u001b[39;00m\n\u001b[32m    321\u001b[39m \u001b[38;5;66;03m# search for lag length with smallest information criteria\u001b[39;00m\n\u001b[32m    322\u001b[39m \u001b[38;5;66;03m# Note: use the same number of observations to have comparable IC\u001b[39;00m\n\u001b[32m    323\u001b[39m \u001b[38;5;66;03m# aic and bic: smaller is better\u001b[39;00m\n\u001b[32m    325\u001b[39m \u001b[38;5;28;01mif\u001b[39;00m \u001b[38;5;129;01mnot\u001b[39;00m regresults:\n\u001b[32m--> \u001b[39m\u001b[32m326\u001b[39m     icbest, bestlag = \u001b[43m_autolag\u001b[49m\u001b[43m(\u001b[49m\n\u001b[32m    327\u001b[39m \u001b[43m        \u001b[49m\u001b[43mOLS\u001b[49m\u001b[43m,\u001b[49m\u001b[43m \u001b[49m\u001b[43mxdshort\u001b[49m\u001b[43m,\u001b[49m\u001b[43m \u001b[49m\u001b[43mfullRHS\u001b[49m\u001b[43m,\u001b[49m\u001b[43m \u001b[49m\u001b[43mstartlag\u001b[49m\u001b[43m,\u001b[49m\u001b[43m \u001b[49m\u001b[43mmaxlag\u001b[49m\u001b[43m,\u001b[49m\u001b[43m \u001b[49m\u001b[43mautolag\u001b[49m\n\u001b[32m    328\u001b[39m \u001b[43m    \u001b[49m\u001b[43m)\u001b[49m\n\u001b[32m    329\u001b[39m \u001b[38;5;28;01melse\u001b[39;00m:\n\u001b[32m    330\u001b[39m     icbest, bestlag, alres = _autolag(\n\u001b[32m    331\u001b[39m         OLS,\n\u001b[32m    332\u001b[39m         xdshort,\n\u001b[32m   (...)\u001b[39m\u001b[32m    337\u001b[39m         regresults=regresults,\n\u001b[32m    338\u001b[39m     )\n",
      "\u001b[36mFile \u001b[39m\u001b[32m~/repos/bayesian-prediction/.venv/lib/python3.12/site-packages/statsmodels/tsa/stattools.py:132\u001b[39m, in \u001b[36m_autolag\u001b[39m\u001b[34m(mod, endog, exog, startlag, maxlag, method, modargs, fitargs, regresults)\u001b[39m\n\u001b[32m    130\u001b[39m method = method.lower()\n\u001b[32m    131\u001b[39m \u001b[38;5;28;01mfor\u001b[39;00m lag \u001b[38;5;129;01min\u001b[39;00m \u001b[38;5;28mrange\u001b[39m(startlag, startlag + maxlag + \u001b[32m1\u001b[39m):\n\u001b[32m--> \u001b[39m\u001b[32m132\u001b[39m     mod_instance = \u001b[43mmod\u001b[49m\u001b[43m(\u001b[49m\u001b[43mendog\u001b[49m\u001b[43m,\u001b[49m\u001b[43m \u001b[49m\u001b[43mexog\u001b[49m\u001b[43m[\u001b[49m\u001b[43m:\u001b[49m\u001b[43m,\u001b[49m\u001b[43m \u001b[49m\u001b[43m:\u001b[49m\u001b[43mlag\u001b[49m\u001b[43m]\u001b[49m\u001b[43m,\u001b[49m\u001b[43m \u001b[49m\u001b[43m*\u001b[49m\u001b[43mmodargs\u001b[49m\u001b[43m)\u001b[49m\n\u001b[32m    133\u001b[39m     results[lag] = mod_instance.fit()\n\u001b[32m    135\u001b[39m \u001b[38;5;28;01mif\u001b[39;00m method == \u001b[33m\"\u001b[39m\u001b[33maic\u001b[39m\u001b[33m\"\u001b[39m:\n",
      "\u001b[36mFile \u001b[39m\u001b[32m~/repos/bayesian-prediction/.venv/lib/python3.12/site-packages/statsmodels/regression/linear_model.py:921\u001b[39m, in \u001b[36mOLS.__init__\u001b[39m\u001b[34m(self, endog, exog, missing, hasconst, **kwargs)\u001b[39m\n\u001b[32m    918\u001b[39m     msg = (\u001b[33m\"\u001b[39m\u001b[33mWeights are not supported in OLS and will be ignored\u001b[39m\u001b[33m\"\u001b[39m\n\u001b[32m    919\u001b[39m            \u001b[33m\"\u001b[39m\u001b[33mAn exception will be raised in the next version.\u001b[39m\u001b[33m\"\u001b[39m)\n\u001b[32m    920\u001b[39m     warnings.warn(msg, ValueWarning)\n\u001b[32m--> \u001b[39m\u001b[32m921\u001b[39m \u001b[38;5;28;43msuper\u001b[39;49m\u001b[43m(\u001b[49m\u001b[43m)\u001b[49m\u001b[43m.\u001b[49m\u001b[34;43m__init__\u001b[39;49m\u001b[43m(\u001b[49m\u001b[43mendog\u001b[49m\u001b[43m,\u001b[49m\u001b[43m \u001b[49m\u001b[43mexog\u001b[49m\u001b[43m,\u001b[49m\u001b[43m \u001b[49m\u001b[43mmissing\u001b[49m\u001b[43m=\u001b[49m\u001b[43mmissing\u001b[49m\u001b[43m,\u001b[49m\n\u001b[32m    922\u001b[39m \u001b[43m                          \u001b[49m\u001b[43mhasconst\u001b[49m\u001b[43m=\u001b[49m\u001b[43mhasconst\u001b[49m\u001b[43m,\u001b[49m\u001b[43m \u001b[49m\u001b[43m*\u001b[49m\u001b[43m*\u001b[49m\u001b[43mkwargs\u001b[49m\u001b[43m)\u001b[49m\n\u001b[32m    923\u001b[39m \u001b[38;5;28;01mif\u001b[39;00m \u001b[33m\"\u001b[39m\u001b[33mweights\u001b[39m\u001b[33m\"\u001b[39m \u001b[38;5;129;01min\u001b[39;00m \u001b[38;5;28mself\u001b[39m._init_keys:\n\u001b[32m    924\u001b[39m     \u001b[38;5;28mself\u001b[39m._init_keys.remove(\u001b[33m\"\u001b[39m\u001b[33mweights\u001b[39m\u001b[33m\"\u001b[39m)\n",
      "\u001b[36mFile \u001b[39m\u001b[32m~/repos/bayesian-prediction/.venv/lib/python3.12/site-packages/statsmodels/regression/linear_model.py:746\u001b[39m, in \u001b[36mWLS.__init__\u001b[39m\u001b[34m(self, endog, exog, weights, missing, hasconst, **kwargs)\u001b[39m\n\u001b[32m    744\u001b[39m \u001b[38;5;28;01melse\u001b[39;00m:\n\u001b[32m    745\u001b[39m     weights = weights.squeeze()\n\u001b[32m--> \u001b[39m\u001b[32m746\u001b[39m \u001b[38;5;28;43msuper\u001b[39;49m\u001b[43m(\u001b[49m\u001b[43m)\u001b[49m\u001b[43m.\u001b[49m\u001b[34;43m__init__\u001b[39;49m\u001b[43m(\u001b[49m\u001b[43mendog\u001b[49m\u001b[43m,\u001b[49m\u001b[43m \u001b[49m\u001b[43mexog\u001b[49m\u001b[43m,\u001b[49m\u001b[43m \u001b[49m\u001b[43mmissing\u001b[49m\u001b[43m=\u001b[49m\u001b[43mmissing\u001b[49m\u001b[43m,\u001b[49m\n\u001b[32m    747\u001b[39m \u001b[43m                          \u001b[49m\u001b[43mweights\u001b[49m\u001b[43m=\u001b[49m\u001b[43mweights\u001b[49m\u001b[43m,\u001b[49m\u001b[43m \u001b[49m\u001b[43mhasconst\u001b[49m\u001b[43m=\u001b[49m\u001b[43mhasconst\u001b[49m\u001b[43m,\u001b[49m\u001b[43m \u001b[49m\u001b[43m*\u001b[49m\u001b[43m*\u001b[49m\u001b[43mkwargs\u001b[49m\u001b[43m)\u001b[49m\n\u001b[32m    748\u001b[39m nobs = \u001b[38;5;28mself\u001b[39m.exog.shape[\u001b[32m0\u001b[39m]\n\u001b[32m    749\u001b[39m weights = \u001b[38;5;28mself\u001b[39m.weights\n",
      "\u001b[36mFile \u001b[39m\u001b[32m~/repos/bayesian-prediction/.venv/lib/python3.12/site-packages/statsmodels/regression/linear_model.py:200\u001b[39m, in \u001b[36mRegressionModel.__init__\u001b[39m\u001b[34m(self, endog, exog, **kwargs)\u001b[39m\n\u001b[32m    199\u001b[39m \u001b[38;5;28;01mdef\u001b[39;00m\u001b[38;5;250m \u001b[39m\u001b[34m__init__\u001b[39m(\u001b[38;5;28mself\u001b[39m, endog, exog, **kwargs):\n\u001b[32m--> \u001b[39m\u001b[32m200\u001b[39m     \u001b[38;5;28;43msuper\u001b[39;49m\u001b[43m(\u001b[49m\u001b[43m)\u001b[49m\u001b[43m.\u001b[49m\u001b[34;43m__init__\u001b[39;49m\u001b[43m(\u001b[49m\u001b[43mendog\u001b[49m\u001b[43m,\u001b[49m\u001b[43m \u001b[49m\u001b[43mexog\u001b[49m\u001b[43m,\u001b[49m\u001b[43m \u001b[49m\u001b[43m*\u001b[49m\u001b[43m*\u001b[49m\u001b[43mkwargs\u001b[49m\u001b[43m)\u001b[49m\n\u001b[32m    201\u001b[39m     \u001b[38;5;28mself\u001b[39m.pinv_wexog: Float64Array | \u001b[38;5;28;01mNone\u001b[39;00m = \u001b[38;5;28;01mNone\u001b[39;00m\n\u001b[32m    202\u001b[39m     \u001b[38;5;28mself\u001b[39m._data_attr.extend([\u001b[33m'\u001b[39m\u001b[33mpinv_wexog\u001b[39m\u001b[33m'\u001b[39m, \u001b[33m'\u001b[39m\u001b[33mwendog\u001b[39m\u001b[33m'\u001b[39m, \u001b[33m'\u001b[39m\u001b[33mwexog\u001b[39m\u001b[33m'\u001b[39m, \u001b[33m'\u001b[39m\u001b[33mweights\u001b[39m\u001b[33m'\u001b[39m])\n",
      "\u001b[36mFile \u001b[39m\u001b[32m~/repos/bayesian-prediction/.venv/lib/python3.12/site-packages/statsmodels/base/model.py:270\u001b[39m, in \u001b[36mLikelihoodModel.__init__\u001b[39m\u001b[34m(self, endog, exog, **kwargs)\u001b[39m\n\u001b[32m    269\u001b[39m \u001b[38;5;28;01mdef\u001b[39;00m\u001b[38;5;250m \u001b[39m\u001b[34m__init__\u001b[39m(\u001b[38;5;28mself\u001b[39m, endog, exog=\u001b[38;5;28;01mNone\u001b[39;00m, **kwargs):\n\u001b[32m--> \u001b[39m\u001b[32m270\u001b[39m     \u001b[38;5;28;43msuper\u001b[39;49m\u001b[43m(\u001b[49m\u001b[43m)\u001b[49m\u001b[43m.\u001b[49m\u001b[34;43m__init__\u001b[39;49m\u001b[43m(\u001b[49m\u001b[43mendog\u001b[49m\u001b[43m,\u001b[49m\u001b[43m \u001b[49m\u001b[43mexog\u001b[49m\u001b[43m,\u001b[49m\u001b[43m \u001b[49m\u001b[43m*\u001b[49m\u001b[43m*\u001b[49m\u001b[43mkwargs\u001b[49m\u001b[43m)\u001b[49m\n\u001b[32m    271\u001b[39m     \u001b[38;5;28mself\u001b[39m.initialize()\n",
      "\u001b[36mFile \u001b[39m\u001b[32m~/repos/bayesian-prediction/.venv/lib/python3.12/site-packages/statsmodels/base/model.py:95\u001b[39m, in \u001b[36mModel.__init__\u001b[39m\u001b[34m(self, endog, exog, **kwargs)\u001b[39m\n\u001b[32m     93\u001b[39m missing = kwargs.pop(\u001b[33m'\u001b[39m\u001b[33mmissing\u001b[39m\u001b[33m'\u001b[39m, \u001b[33m'\u001b[39m\u001b[33mnone\u001b[39m\u001b[33m'\u001b[39m)\n\u001b[32m     94\u001b[39m hasconst = kwargs.pop(\u001b[33m'\u001b[39m\u001b[33mhasconst\u001b[39m\u001b[33m'\u001b[39m, \u001b[38;5;28;01mNone\u001b[39;00m)\n\u001b[32m---> \u001b[39m\u001b[32m95\u001b[39m \u001b[38;5;28mself\u001b[39m.data = \u001b[38;5;28;43mself\u001b[39;49m\u001b[43m.\u001b[49m\u001b[43m_handle_data\u001b[49m\u001b[43m(\u001b[49m\u001b[43mendog\u001b[49m\u001b[43m,\u001b[49m\u001b[43m \u001b[49m\u001b[43mexog\u001b[49m\u001b[43m,\u001b[49m\u001b[43m \u001b[49m\u001b[43mmissing\u001b[49m\u001b[43m,\u001b[49m\u001b[43m \u001b[49m\u001b[43mhasconst\u001b[49m\u001b[43m,\u001b[49m\n\u001b[32m     96\u001b[39m \u001b[43m                              \u001b[49m\u001b[43m*\u001b[49m\u001b[43m*\u001b[49m\u001b[43mkwargs\u001b[49m\u001b[43m)\u001b[49m\n\u001b[32m     97\u001b[39m \u001b[38;5;28mself\u001b[39m.k_constant = \u001b[38;5;28mself\u001b[39m.data.k_constant\n\u001b[32m     98\u001b[39m \u001b[38;5;28mself\u001b[39m.exog = \u001b[38;5;28mself\u001b[39m.data.exog\n",
      "\u001b[36mFile \u001b[39m\u001b[32m~/repos/bayesian-prediction/.venv/lib/python3.12/site-packages/statsmodels/base/model.py:135\u001b[39m, in \u001b[36mModel._handle_data\u001b[39m\u001b[34m(self, endog, exog, missing, hasconst, **kwargs)\u001b[39m\n\u001b[32m    134\u001b[39m \u001b[38;5;28;01mdef\u001b[39;00m\u001b[38;5;250m \u001b[39m\u001b[34m_handle_data\u001b[39m(\u001b[38;5;28mself\u001b[39m, endog, exog, missing, hasconst, **kwargs):\n\u001b[32m--> \u001b[39m\u001b[32m135\u001b[39m     data = \u001b[43mhandle_data\u001b[49m\u001b[43m(\u001b[49m\u001b[43mendog\u001b[49m\u001b[43m,\u001b[49m\u001b[43m \u001b[49m\u001b[43mexog\u001b[49m\u001b[43m,\u001b[49m\u001b[43m \u001b[49m\u001b[43mmissing\u001b[49m\u001b[43m,\u001b[49m\u001b[43m \u001b[49m\u001b[43mhasconst\u001b[49m\u001b[43m,\u001b[49m\u001b[43m \u001b[49m\u001b[43m*\u001b[49m\u001b[43m*\u001b[49m\u001b[43mkwargs\u001b[49m\u001b[43m)\u001b[49m\n\u001b[32m    136\u001b[39m     \u001b[38;5;66;03m# kwargs arrays could have changed, easier to just attach here\u001b[39;00m\n\u001b[32m    137\u001b[39m     \u001b[38;5;28;01mfor\u001b[39;00m key \u001b[38;5;129;01min\u001b[39;00m kwargs:\n",
      "\u001b[36mFile \u001b[39m\u001b[32m~/repos/bayesian-prediction/.venv/lib/python3.12/site-packages/statsmodels/base/data.py:675\u001b[39m, in \u001b[36mhandle_data\u001b[39m\u001b[34m(endog, exog, missing, hasconst, **kwargs)\u001b[39m\n\u001b[32m    672\u001b[39m     exog = np.asarray(exog)\n\u001b[32m    674\u001b[39m klass = handle_data_class_factory(endog, exog)\n\u001b[32m--> \u001b[39m\u001b[32m675\u001b[39m \u001b[38;5;28;01mreturn\u001b[39;00m \u001b[43mklass\u001b[49m\u001b[43m(\u001b[49m\u001b[43mendog\u001b[49m\u001b[43m,\u001b[49m\u001b[43m \u001b[49m\u001b[43mexog\u001b[49m\u001b[43m=\u001b[49m\u001b[43mexog\u001b[49m\u001b[43m,\u001b[49m\u001b[43m \u001b[49m\u001b[43mmissing\u001b[49m\u001b[43m=\u001b[49m\u001b[43mmissing\u001b[49m\u001b[43m,\u001b[49m\u001b[43m \u001b[49m\u001b[43mhasconst\u001b[49m\u001b[43m=\u001b[49m\u001b[43mhasconst\u001b[49m\u001b[43m,\u001b[49m\n\u001b[32m    676\u001b[39m \u001b[43m             \u001b[49m\u001b[43m*\u001b[49m\u001b[43m*\u001b[49m\u001b[43mkwargs\u001b[49m\u001b[43m)\u001b[49m\n",
      "\u001b[36mFile \u001b[39m\u001b[32m~/repos/bayesian-prediction/.venv/lib/python3.12/site-packages/statsmodels/base/data.py:88\u001b[39m, in \u001b[36mModelData.__init__\u001b[39m\u001b[34m(self, endog, exog, missing, hasconst, **kwargs)\u001b[39m\n\u001b[32m     86\u001b[39m \u001b[38;5;28mself\u001b[39m.const_idx = \u001b[38;5;28;01mNone\u001b[39;00m\n\u001b[32m     87\u001b[39m \u001b[38;5;28mself\u001b[39m.k_constant = \u001b[32m0\u001b[39m\n\u001b[32m---> \u001b[39m\u001b[32m88\u001b[39m \u001b[38;5;28;43mself\u001b[39;49m\u001b[43m.\u001b[49m\u001b[43m_handle_constant\u001b[49m\u001b[43m(\u001b[49m\u001b[43mhasconst\u001b[49m\u001b[43m)\u001b[49m\n\u001b[32m     89\u001b[39m \u001b[38;5;28mself\u001b[39m._check_integrity()\n\u001b[32m     90\u001b[39m \u001b[38;5;28mself\u001b[39m._cache = {}\n",
      "\u001b[36mFile \u001b[39m\u001b[32m~/repos/bayesian-prediction/.venv/lib/python3.12/site-packages/statsmodels/base/data.py:134\u001b[39m, in \u001b[36mModelData._handle_constant\u001b[39m\u001b[34m(self, hasconst)\u001b[39m\n\u001b[32m    132\u001b[39m exog_max = np.max(\u001b[38;5;28mself\u001b[39m.exog, axis=\u001b[32m0\u001b[39m)\n\u001b[32m    133\u001b[39m \u001b[38;5;28;01mif\u001b[39;00m \u001b[38;5;129;01mnot\u001b[39;00m np.isfinite(exog_max).all():\n\u001b[32m--> \u001b[39m\u001b[32m134\u001b[39m     \u001b[38;5;28;01mraise\u001b[39;00m MissingDataError(\u001b[33m'\u001b[39m\u001b[33mexog contains inf or nans\u001b[39m\u001b[33m'\u001b[39m)\n\u001b[32m    135\u001b[39m exog_min = np.min(\u001b[38;5;28mself\u001b[39m.exog, axis=\u001b[32m0\u001b[39m)\n\u001b[32m    136\u001b[39m const_idx = np.where(exog_max == exog_min)[\u001b[32m0\u001b[39m].squeeze()\n",
      "\u001b[31mMissingDataError\u001b[39m: exog contains inf or nans"
     ]
    }
   ],
   "source": [
    "test_stationarity(resampled_data)"
   ]
  },
  {
   "cell_type": "code",
   "execution_count": null,
   "id": "2bb15f05",
   "metadata": {},
   "outputs": [],
   "source": []
  }
 ],
 "metadata": {
  "kernelspec": {
   "display_name": ".venv",
   "language": "python",
   "name": "python3"
  },
  "language_info": {
   "codemirror_mode": {
    "name": "ipython",
    "version": 3
   },
   "file_extension": ".py",
   "mimetype": "text/x-python",
   "name": "python",
   "nbconvert_exporter": "python",
   "pygments_lexer": "ipython3",
   "version": "3.12.3"
  }
 },
 "nbformat": 4,
 "nbformat_minor": 5
}
